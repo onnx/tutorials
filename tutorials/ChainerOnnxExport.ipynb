{
 "cells": [
  {
   "cell_type": "markdown",
   "metadata": {},
   "source": [
    "# Exporting model from Chainer to ONNX\n",
    "\n",
    "In thi tutorial, we describe how to use ONNX to convert a model defined in Chainer into the ONNX format.\n",
    "\n",
    "ONNX export is provided as a separte package [onnx-chainer](https://github.com/chainer/onnx-chainer). You can install it via pip like this:\n",
    "\n",
    "```\n",
    "pip install onnx-chainer\n",
    "```"
   ]
  },
  {
   "cell_type": "markdown",
   "metadata": {},
   "source": [
    "`onnx_chainer` provides `export` function that takes a Chainer model and its expected arguments given to `__call__` method of the model. It executes a forward pass once with the given model object and arguments to construct a computational graph. Because Chainer is the first deep learning framework that proposed Define-by-Run approach, the computational graph for backward computation is constructed on-the-fly. `onnx-chainer` is a trace-based exporter, so it needs to run a model once before converting the structure into ONNX.\n",
    "\n",
    "`onnx_chainer.export()` function have some other options for example `filename` which is to save the converted model to a disk."
   ]
  },
  {
   "cell_type": "markdown",
   "metadata": {},
   "source": [
    "## Limitations\n",
    "\n",
    "The [onnx-chainer](https://github.com/chainer/onnx-chainer) currently does not support exporting dynamic models which change behavior depending on input data, because ONNX format currently cannot represent such dynamic behavior. "
   ]
  },
  {
   "cell_type": "code",
   "execution_count": 2,
   "metadata": {},
   "outputs": [
    {
     "name": "stdout",
     "output_type": "stream",
     "text": [
      "Help on function export in module onnx_chainer.export:\n",
      "\n",
      "export(model, args, filename=None, export_params=True, graph_name='Graph', save_text=False)\n",
      "    Export function for chainer.Chain in ONNX format.\n",
      "    \n",
      "    This function performs a forward computation of the given\n",
      "    :class:`~chainer.Chain`, ``model``, by passing the given argments ``args``\n",
      "    directly. It means, the output :class:`~chainer.Variable` object ``y`` to\n",
      "    make the computational graph will be created by:\n",
      "    \n",
      "    y = model(*args)\n",
      "    \n",
      "    Args:\n",
      "        model (~chainer.Chain): The model object you want to export in ONNX\n",
      "            format. It should have :meth:`__call__` method because the second\n",
      "            argment ``args`` is directly given to the model by the ``[]``\n",
      "            accessor.\n",
      "        args (list or dict): The argments which are given to the model\n",
      "            directly.\n",
      "        filename (str or file-like object): The filename used for saving the\n",
      "            resulting ONNX model. If None, nothing is saved to the disk.\n",
      "        export_params (bool): If True, this function exports all the parameters\n",
      "            included in the given model at the same time. If False, the\n",
      "            exported ONNX model doesn't include any parameter values.\n",
      "        graph_name (str): A string to be used for the ``name`` field of the\n",
      "            graph in the exported ONNX model.\n",
      "        save_text (bool): If True, the text format of the output ONNX model is\n",
      "            also saved with ``.txt`` extention.\n",
      "    \n",
      "    Returns:\n",
      "        A ONNX model object.\n",
      "\n"
     ]
    },
    {
     "name": "stderr",
     "output_type": "stream",
     "text": [
      "/Users/shunta/lib/chainer/chainer/_environment_check.py:38: UserWarning: Accelerate has been detected as a NumPy backend library.\n",
      "vecLib, which is a part of Accelerate, is known not to work correctly with Chainer.\n",
      "We recommend using other BLAS libraries such as OpenBLAS.\n",
      "For details of the issue, please see\n",
      "https://docs.chainer.org/en/stable/tips.html#mnist-example-does-not-converge-in-cpu-mode-on-mac-os-x.\n",
      "\n",
      "Also note that Chainer does not officially support Mac OS X.\n",
      "Please use it at your own risk.\n",
      "\n",
      "  ''')  # NOQA\n"
     ]
    }
   ],
   "source": [
    "import onnx_chainer\n",
    "help(onnx_chainer.export)"
   ]
  }
 ],
 "metadata": {
  "kernelspec": {
   "display_name": "Python 3",
   "language": "python",
   "name": "python3"
  },
  "language_info": {
   "codemirror_mode": {
    "name": "ipython",
    "version": 3
   },
   "file_extension": ".py",
   "mimetype": "text/x-python",
   "name": "python",
   "nbconvert_exporter": "python",
   "pygments_lexer": "ipython3",
   "version": "3.6.4"
  }
 },
 "nbformat": 4,
 "nbformat_minor": 2
}
